{
 "cells": [
  {
   "cell_type": "code",
   "execution_count": 15,
   "metadata": {},
   "outputs": [],
   "source": [
    "import pickle\n",
    "from sklearn.ensemble import RandomForestRegressor\n",
    "from sklearn.metrics import mean_absolute_error\n",
    "from sklearn.model_selection import KFold\n",
    "import pandas as pd\n",
    "import numpy as np\n",
    "import joblib"
   ]
  },
  {
   "cell_type": "code",
   "execution_count": 11,
   "metadata": {},
   "outputs": [
    {
     "data": {
      "text/plain": [
       "'/Users/ramseyissa/Documents/GitHub/matsci-opt-benchmarks/notebooks'"
      ]
     },
     "execution_count": 11,
     "metadata": {},
     "output_type": "execute_result"
    }
   ],
   "source": [
    "import os\n",
    "os.getcwd()"
   ]
  },
  {
   "attachments": {},
   "cell_type": "markdown",
   "metadata": {},
   "source": [
    "## Import Data"
   ]
  },
  {
   "cell_type": "code",
   "execution_count": null,
   "metadata": {},
   "outputs": [],
   "source": [
    "url_sobol_filter = \"https://zenodo.org/record/7513019/files/sobol_probability_filter.csv\"\n",
    "sobol_filter = pd.read_csv(url_sobol_filter)\n",
    "\n",
    "url_sobol_reg = \"https://zenodo.org/record/7513019/files/sobol_regression.csv\"\n",
    "sobol_reg = pd.read_csv(url_sobol_reg)\n",
    "\n"
   ]
  },
  {
   "cell_type": "code",
   "execution_count": 6,
   "metadata": {},
   "outputs": [
    {
     "data": {
      "text/html": [
       "<div>\n",
       "<style scoped>\n",
       "    .dataframe tbody tr th:only-of-type {\n",
       "        vertical-align: middle;\n",
       "    }\n",
       "\n",
       "    .dataframe tbody tr th {\n",
       "        vertical-align: top;\n",
       "    }\n",
       "\n",
       "    .dataframe thead th {\n",
       "        text-align: right;\n",
       "    }\n",
       "</style>\n",
       "<table border=\"1\" class=\"dataframe\">\n",
       "  <thead>\n",
       "    <tr style=\"text-align: right;\">\n",
       "      <th></th>\n",
       "      <th>fba_isna_prob</th>\n",
       "    </tr>\n",
       "  </thead>\n",
       "  <tbody>\n",
       "    <tr>\n",
       "      <th>0</th>\n",
       "      <td>0.153846</td>\n",
       "    </tr>\n",
       "    <tr>\n",
       "      <th>1</th>\n",
       "      <td>0.000000</td>\n",
       "    </tr>\n",
       "    <tr>\n",
       "      <th>2</th>\n",
       "      <td>0.000000</td>\n",
       "    </tr>\n",
       "    <tr>\n",
       "      <th>3</th>\n",
       "      <td>0.083333</td>\n",
       "    </tr>\n",
       "    <tr>\n",
       "      <th>4</th>\n",
       "      <td>0.076923</td>\n",
       "    </tr>\n",
       "    <tr>\n",
       "      <th>...</th>\n",
       "      <td>...</td>\n",
       "    </tr>\n",
       "    <tr>\n",
       "      <th>41223</th>\n",
       "      <td>0.100000</td>\n",
       "    </tr>\n",
       "    <tr>\n",
       "      <th>41224</th>\n",
       "      <td>0.000000</td>\n",
       "    </tr>\n",
       "    <tr>\n",
       "      <th>41225</th>\n",
       "      <td>0.000000</td>\n",
       "    </tr>\n",
       "    <tr>\n",
       "      <th>41226</th>\n",
       "      <td>0.000000</td>\n",
       "    </tr>\n",
       "    <tr>\n",
       "      <th>41227</th>\n",
       "      <td>0.000000</td>\n",
       "    </tr>\n",
       "  </tbody>\n",
       "</table>\n",
       "<p>41228 rows × 1 columns</p>\n",
       "</div>"
      ],
      "text/plain": [
       "       fba_isna_prob\n",
       "0           0.153846\n",
       "1           0.000000\n",
       "2           0.000000\n",
       "3           0.083333\n",
       "4           0.076923\n",
       "...              ...\n",
       "41223       0.100000\n",
       "41224       0.000000\n",
       "41225       0.000000\n",
       "41226       0.000000\n",
       "41227       0.000000\n",
       "\n",
       "[41228 rows x 1 columns]"
      ]
     },
     "execution_count": 6,
     "metadata": {},
     "output_type": "execute_result"
    }
   ],
   "source": [
    "# parse data for target \"fba_isna_prob\"\n",
    "fba_isna_prob = sobol_filter['fba_isna_prob']\n",
    "fba_isna_prob\n",
    "\n",
    "sobolPF_fba_isna_prob = sobol_filter.drop(['ls_isna_prob','fba_isna_prob'], axis=1)\n",
    "sobolPF_fba_isna_prob\n",
    "\n",
    "fba_isna_prob = fba_isna_prob.to_frame()\n",
    "# fba_isna_prob"
   ]
  },
  {
   "attachments": {},
   "cell_type": "markdown",
   "metadata": {},
   "source": [
    "## define f(x) to calc mae scores "
   ]
  },
  {
   "cell_type": "code",
   "execution_count": 14,
   "metadata": {},
   "outputs": [],
   "source": [
    "# arguement for rfr_mae, X_array, y_array, model_name to save model as .pkl\n",
    "def rfr_mae(X_array, y_array, model_name):\n",
    "    kf = KFold(n_splits=5, shuffle=True, random_state=13)\n",
    "    mae_scores = []\n",
    "    for train_index, test_index in kf.split(X_array):\n",
    "        X_train, X_test = X_array[train_index], X_array[test_index]\n",
    "        y_train, y_test = y_array[train_index], y_array[test_index]\n",
    "        # Define the model\n",
    "        model = RandomForestRegressor(random_state=13)\n",
    "        # Fit model\n",
    "        model.fit(X_train, y_train)\n",
    "        # predict\n",
    "        mae_scores.append(mean_absolute_error(y_test, model.predict(X_test)))\n",
    "        mae = sum(mae_scores) / len(mae_scores)\n",
    "    joblib.dump(model, model_name)\n",
    "    return(mae)"
   ]
  },
  {
   "attachments": {},
   "cell_type": "markdown",
   "metadata": {},
   "source": [
    "## Train/Val on Sobol_Probability_Filter for \"fba_isna_prob\""
   ]
  },
  {
   "cell_type": "code",
   "execution_count": 12,
   "metadata": {},
   "outputs": [
    {
     "name": "stdout",
     "output_type": "stream",
     "text": [
      "Average MAE for fba_isna_prob 0.04876547325285035\n"
     ]
    }
   ],
   "source": [
    "# Create a KFold cross-validation iterator\n",
    "X_array_fba_isna_prob = sobolPF_fba_isna_prob.to_numpy()\n",
    "y_array_fba_isna_prob = fba_isna_prob.to_numpy().ravel()\n",
    "\n",
    "\n",
    "print(\"Average MAE for fba_isna_prob\",rfr_mae(X_array_fba_isna_prob, y_array_fba_isna_prob,fba_isna_prob.pkl))\n",
    "\n",
    "\n",
    "# Save the model\n",
    "with open('../models/fba_isna_prob.pkl', 'wb') as f:\n",
    "    pickle.dump(model, f)\n",
    "\n",
    "# # Load the model\n",
    "# with open('path/to/save/model.pkl', 'rb') as f:\n",
    "#     loaded_model = pickle.load(f)\n",
    "\n"
   ]
  },
  {
   "attachments": {},
   "cell_type": "markdown",
   "metadata": {},
   "source": [
    "## Train/Val on Sobol_Probability_Filter for \"ls_isna_prob\""
   ]
  },
  {
   "cell_type": "code",
   "execution_count": 10,
   "metadata": {},
   "outputs": [
    {
     "name": "stdout",
     "output_type": "stream",
     "text": [
      "Average MAE for ls_isna_prob 0.09105841918934479\n"
     ]
    }
   ],
   "source": [
    "ls_isna_prob = sobol_filter['ls_isna_prob']\n",
    "sobolPF_ls_isna_prob = sobol_filter.drop(['ls_isna_prob','fba_isna_prob'], axis=1)\n",
    "\n",
    "X_array_ls = sobolPF_ls_isna_prob.to_numpy()\n",
    "y_array_ls = ls_isna_prob.to_numpy().ravel()\n",
    "\n",
    "print(\"Average MAE for ls_isna_prob\",rfr_mae(X_array_ls, y_array_ls))\n"
   ]
  },
  {
   "attachments": {},
   "cell_type": "markdown",
   "metadata": {},
   "source": [
    "## Import sobol_regression Data"
   ]
  },
  {
   "cell_type": "code",
   "execution_count": null,
   "metadata": {},
   "outputs": [],
   "source": [
    "# read in sobol_regression.csv\n",
    "url_sobol_reg = \"https://zenodo.org/record/7513019/files/sobol_regression.csv\"\n",
    "sobol_reg = pd.read_csv(url_sobol_reg)\n",
    "\n",
    "# drop nan values\n",
    "sobol_reg = sobol_reg.dropna()\n",
    "\n",
    "#select features \n",
    "sobol_reg =sobol_reg[['mu1_div_mu3', 'mu2_div_mu3', 'std1', 'std2', 'std3', 'comp1', 'comp2', 'num_particles', 'safety_factor', 'fba_rank', 'ls_rank', 'fba_time_s_rank', 'ls_time_s_rank']]\n",
    "\n",
    "#select targets 'fba', 'ls', 'fba_time_s', 'ls_time_s'\n",
    "fba = sobol_reg[['fba']]\n",
    "ls = sobol_reg[['ls']]\n",
    "fba_time_s = sobol_reg[['fba_time_s']]\n",
    "ls_time_s = sobol_reg[['ls_time_s']]"
   ]
  },
  {
   "attachments": {},
   "cell_type": "markdown",
   "metadata": {},
   "source": [
    "## target = fba "
   ]
  },
  {
   "cell_type": "code",
   "execution_count": null,
   "metadata": {},
   "outputs": [],
   "source": [
    "X_array_fba = sobol_reg.to_numpy()\n",
    "y_array_fba = fba.to_numpy().ravel()\n",
    "\n",
    "print(\"Average MAE for fba\",rfr_mae(X_array_fba, y_array_fba))"
   ]
  },
  {
   "attachments": {},
   "cell_type": "markdown",
   "metadata": {},
   "source": [
    "## target = ls "
   ]
  },
  {
   "cell_type": "code",
   "execution_count": null,
   "metadata": {},
   "outputs": [],
   "source": [
    "X_array_ls_reg = sobol_reg.to_numpy()\n",
    "y_array_ls_reg = ls.to_numpy().ravel()\n",
    "\n",
    "print(\"Average MAE for ls\",rfr_mae(X_array_ls_reg, y_array_ls_reg))"
   ]
  },
  {
   "cell_type": "code",
   "execution_count": null,
   "metadata": {},
   "outputs": [],
   "source": []
  }
 ],
 "metadata": {
  "kernelspec": {
   "display_name": "crabnet",
   "language": "python",
   "name": "python3"
  },
  "language_info": {
   "codemirror_mode": {
    "name": "ipython",
    "version": 3
   },
   "file_extension": ".py",
   "mimetype": "text/x-python",
   "name": "python",
   "nbconvert_exporter": "python",
   "pygments_lexer": "ipython3",
   "version": "3.9.15"
  },
  "orig_nbformat": 4,
  "vscode": {
   "interpreter": {
    "hash": "13a8d1758d58c46dc82d316887fc9984ef9be0c7e0108433a71e2d3660d4f9b1"
   }
  }
 },
 "nbformat": 4,
 "nbformat_minor": 2
}
