{
 "cells": [
  {
   "cell_type": "code",
   "execution_count": 1,
   "metadata": {},
   "outputs": [],
   "source": [
    "import pickle\n",
    "from sklearn.ensemble import RandomForestRegressor\n",
    "from sklearn.metrics import mean_absolute_error\n",
    "from sklearn.model_selection import KFold\n",
    "import pandas as pd\n",
    "import numpy as np"
   ]
  },
  {
   "cell_type": "code",
   "execution_count": 2,
   "metadata": {},
   "outputs": [],
   "source": [
    "import os\n",
    "new_path = '../data_folder'\n",
    "os.chdir(new_path)"
   ]
  },
  {
   "attachments": {},
   "cell_type": "markdown",
   "metadata": {},
   "source": [
    "## Import Data"
   ]
  },
  {
   "cell_type": "code",
   "execution_count": 3,
   "metadata": {},
   "outputs": [
    {
     "data": {
      "text/plain": [
       "Index(['mu1_div_mu3', 'mu2_div_mu3', 'std1', 'std2', 'std3', 'comp1', 'comp2',\n",
       "       'num_particles', 'safety_factor', 'fba_isna_prob', 'ls_isna_prob'],\n",
       "      dtype='object')"
      ]
     },
     "execution_count": 3,
     "metadata": {},
     "output_type": "execute_result"
    }
   ],
   "source": [
    "sobolPF = pd.read_csv('sobol_probability_filter.csv')\n",
    "sobolPF.columns"
   ]
  },
  {
   "cell_type": "code",
   "execution_count": 4,
   "metadata": {},
   "outputs": [],
   "source": [
    "# parse data for target \"fba_isna_prob\"\n",
    "fba_isna_prob = sobolPF['fba_isna_prob']\n",
    "fba_isna_prob\n",
    "\n",
    "sobolPF_fba_isna_prob = sobolPF.drop(['ls_isna_prob','fba_isna_prob'], axis=1)\n",
    "sobolPF_fba_isna_prob\n",
    "\n",
    "fba_isna_prob = fba_isna_prob.to_frame()\n",
    "# sobolPF_fba_isna_prob"
   ]
  },
  {
   "attachments": {},
   "cell_type": "markdown",
   "metadata": {},
   "source": [
    "## define f(x) to calc mae scores "
   ]
  },
  {
   "cell_type": "code",
   "execution_count": 5,
   "metadata": {},
   "outputs": [],
   "source": [
    "def rfr_mae(X_array, y_array):\n",
    "    kf = KFold(n_splits=5, shuffle=True, random_state=13)\n",
    "    mae_scores = []\n",
    "    for train_index, test_index in kf.split(X_array):\n",
    "        X_train, X_test = X_array[train_index], X_array[test_index]\n",
    "        y_train, y_test = y_array[train_index], y_array[test_index]\n",
    "        # Define the model\n",
    "        rfr_model = RandomForestRegressor(random_state=13)\n",
    "        # Fit model\n",
    "        rfr_model.fit(X_train, y_train)\n",
    "        # predict\n",
    "        mae_scores.append(mean_absolute_error(y_test, rfr_model.predict(X_test)))\n",
    "        mae = sum(mae_scores) / len(mae_scores)\n",
    "    return(mae)"
   ]
  },
  {
   "attachments": {},
   "cell_type": "markdown",
   "metadata": {},
   "source": [
    "## Train/Val on Sobol_Probability_Filter for \"fba_isna_prob\""
   ]
  },
  {
   "cell_type": "code",
   "execution_count": 31,
   "metadata": {},
   "outputs": [
    {
     "name": "stdout",
     "output_type": "stream",
     "text": [
      "Average MAE for fba_isna_prob 0.04876547325285035\n"
     ]
    }
   ],
   "source": [
    "# Create a KFold cross-validation iterator\n",
    "X_array_fba_isna_prob = sobolPF_fba_isna_prob.to_numpy()\n",
    "y_array_fba_isna_prob = fba_isna_prob.to_numpy().ravel()\n",
    "\n",
    "\n",
    "print(\"Average MAE for fba_isna_prob\",rfr_mae(X_array_fba_isna_prob, y_array_fba_isna_prob))\n",
    "\n",
    "\n",
    "# Save the model\n",
    "# with open('path/to/save/model.pkl', 'wb') as f:\n",
    "#     pickle.dump(model, f)\n",
    "\n",
    "# # Load the model\n",
    "# with open('path/to/save/model.pkl', 'rb') as f:\n",
    "#     loaded_model = pickle.load(f)\n",
    "\n"
   ]
  },
  {
   "attachments": {},
   "cell_type": "markdown",
   "metadata": {},
   "source": [
    "## Train/Val on Sobol_Probability_Filter for \"ls_isna_prob\""
   ]
  },
  {
   "cell_type": "code",
   "execution_count": 33,
   "metadata": {},
   "outputs": [
    {
     "name": "stdout",
     "output_type": "stream",
     "text": [
      "Average MAE for ls_isna_prob 0.09105841918934479\n"
     ]
    }
   ],
   "source": [
    "ls_isna_prob = sobolPF['ls_isna_prob']\n",
    "sobolPF_ls_isna_prob = sobolPF.drop(['ls_isna_prob','fba_isna_prob'], axis=1)\n",
    "\n",
    "X_array_ls = sobolPF_ls_isna_prob.to_numpy()\n",
    "y_array_ls = ls_isna_prob.to_numpy().ravel()\n",
    "\n",
    "print(\"Average MAE for ls_isna_prob\",rfr_mae(X_array_ls, y_array_ls))\n"
   ]
  },
  {
   "attachments": {},
   "cell_type": "markdown",
   "metadata": {},
   "source": [
    "## Import sobol_regression Data"
   ]
  },
  {
   "cell_type": "code",
   "execution_count": 44,
   "metadata": {},
   "outputs": [],
   "source": [
    "# read in sobol_regression.csv\n",
    "sobolREG = pd.read_csv('sobol_regression.csv')\n",
    "\n",
    "# drop nan values\n",
    "sobolREG = sobolREG.dropna()\n",
    "\n",
    "#select features \n",
    "sobol_reg =sobolREG[['mu1_div_mu3', 'mu2_div_mu3', 'std1', 'std2', 'std3', 'comp1', 'comp2', 'num_particles', 'safety_factor', 'fba_rank', 'ls_rank', 'fba_time_s_rank', 'ls_time_s_rank']]\n",
    "\n",
    "#select targets 'fba', 'ls', 'fba_time_s', 'ls_time_s'\n",
    "fba = sobolREG[['fba']]\n",
    "ls = sobolREG[['ls']]\n",
    "fba_time_s = sobolREG[['fba_time_s']]\n",
    "ls_time_s = sobolREG[['ls_time_s']]"
   ]
  },
  {
   "attachments": {},
   "cell_type": "markdown",
   "metadata": {},
   "source": [
    "## target = fba "
   ]
  },
  {
   "cell_type": "code",
   "execution_count": 49,
   "metadata": {},
   "outputs": [
    {
     "name": "stdout",
     "output_type": "stream",
     "text": [
      "Average MAE for fba 0.0031074618510043336\n"
     ]
    }
   ],
   "source": [
    "X_array_fba = sobol_reg.to_numpy()\n",
    "y_array_fba = fba.to_numpy().ravel()\n",
    "\n",
    "print(\"Average MAE for fba\",rfr_mae(X_array_fba, y_array_fba))"
   ]
  },
  {
   "attachments": {},
   "cell_type": "markdown",
   "metadata": {},
   "source": [
    "## target = ls "
   ]
  },
  {
   "cell_type": "code",
   "execution_count": 51,
   "metadata": {},
   "outputs": [
    {
     "name": "stdout",
     "output_type": "stream",
     "text": [
      "Average MAE for ls 0.006576529961592949\n"
     ]
    }
   ],
   "source": [
    "X_array_ls_reg = sobol_reg.to_numpy()\n",
    "y_array_ls_reg = ls.to_numpy().ravel()\n",
    "\n",
    "print(\"Average MAE for ls\",rfr_mae(X_array_ls_reg, y_array_ls_reg))"
   ]
  },
  {
   "cell_type": "code",
   "execution_count": null,
   "metadata": {},
   "outputs": [],
   "source": []
  }
 ],
 "metadata": {
  "kernelspec": {
   "display_name": "crabnet",
   "language": "python",
   "name": "python3"
  },
  "language_info": {
   "codemirror_mode": {
    "name": "ipython",
    "version": 3
   },
   "file_extension": ".py",
   "mimetype": "text/x-python",
   "name": "python",
   "nbconvert_exporter": "python",
   "pygments_lexer": "ipython3",
   "version": "3.9.15 (main, Nov 24 2022, 08:29:02) \n[Clang 14.0.6 ]"
  },
  "orig_nbformat": 4,
  "vscode": {
   "interpreter": {
    "hash": "13a8d1758d58c46dc82d316887fc9984ef9be0c7e0108433a71e2d3660d4f9b1"
   }
  }
 },
 "nbformat": 4,
 "nbformat_minor": 2
}
