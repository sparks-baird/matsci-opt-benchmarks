{
 "cells": [
  {
   "attachments": {},
   "cell_type": "markdown",
   "metadata": {},
   "source": [
    "https://github.com/zenodo/zenodo/issues/1317\n",
    "\n",
    "https://gist.github.com/slint/92e4d38eb49dd177f46b02e1fe9761e1\n",
    "\n",
    "https://developers.zenodo.org/#rest-api"
   ]
  },
  {
   "cell_type": "code",
   "execution_count": 24,
   "metadata": {},
   "outputs": [],
   "source": [
    "import requests\n",
    "from my_secrets import ZENODO_API_KEY, ZENODO_SANDBOX_API_KEY\n",
    "\n",
    "sandbox = False\n",
    "access_token = ZENODO_SANDBOX_API_KEY if sandbox else ZENODO_API_KEY\n",
    "from my_secrets import ZENODO_API_KEY, ZENODO_SANDBOX_API_KEY\n",
    "\n",
    "params = {\"access_token\": access_token}\n",
    "\n",
    "# Create the deposit resource\n",
    "if sandbox:\n",
    "    url = \"https://sandbox.zenodo.org\"\n",
    "else:\n",
    "    url = \"https://zenodo.org\"\n",
    "\n",
    "headers = {\"Content-Type\": \"application/json\"}\n",
    "\n",
    "# res = requests.post(\n",
    "#     url,\n",
    "#     json={},\n",
    "#     # Headers are not necessary here since \"requests\" automatically\n",
    "#     # adds \"Content-Type: application/json\", because we're using\n",
    "#     # the \"json=\" keyword argument...\n",
    "#     # headers=headers,\n",
    "#     params=params,\n",
    "# )\n",
    "# print(res.json())\n",
    "\n",
    "deposition_id = \"7696165\""
   ]
  },
  {
   "cell_type": "code",
   "execution_count": 28,
   "metadata": {},
   "outputs": [
    {
     "data": {
      "text/plain": [
       "{'conceptdoi': '10.5281/zenodo.7513018',\n",
       " 'conceptrecid': '7513018',\n",
       " 'created': '2023-03-03T14:19:56.389993+00:00',\n",
       " 'doi': '10.5281/zenodo.7696165',\n",
       " 'doi_url': 'https://doi.org/10.5281/zenodo.7696165',\n",
       " 'files': [{'checksum': '99de50536770b78cf31d32f53eb392f2',\n",
       "   'filename': 'model_metadata.json',\n",
       "   'filesize': 78018456,\n",
       "   'id': '2d60bc9f-fe86-475b-a1e7-0ff31cdecb29',\n",
       "   'links': {'download': 'https://zenodo.org/api/files/38a5a2f8-762b-4393-89d1-68edbdbdc90d/model_metadata.json',\n",
       "    'self': 'https://zenodo.org/api/deposit/depositions/7696165/files/2d60bc9f-fe86-475b-a1e7-0ff31cdecb29'}},\n",
       "  {'checksum': '153ad7d4610ebfbfdbed16a84ab4267d',\n",
       "   'filename': 'sobol_probability_filter.csv',\n",
       "   'filesize': 5891934,\n",
       "   'id': 'b2d3e810-11ba-4727-b34d-ddd7de3a2d0c',\n",
       "   'links': {'download': 'https://zenodo.org/api/files/38a5a2f8-762b-4393-89d1-68edbdbdc90d/sobol_probability_filter.csv',\n",
       "    'self': 'https://zenodo.org/api/deposit/depositions/7696165/files/b2d3e810-11ba-4727-b34d-ddd7de3a2d0c'}},\n",
       "  {'checksum': 'bae668750f086b7adb09e6929078aa70',\n",
       "   'filename': 'sobol_regression.csv',\n",
       "   'filesize': 195604761,\n",
       "   'id': '078505b5-08ec-4025-b436-98917e0892da',\n",
       "   'links': {'download': 'https://zenodo.org/api/files/38a5a2f8-762b-4393-89d1-68edbdbdc90d/sobol_regression.csv',\n",
       "    'self': 'https://zenodo.org/api/deposit/depositions/7696165/files/078505b5-08ec-4025-b436-98917e0892da'}},\n",
       "  {'checksum': 'd3485487131cdc742de54f7274f71fd5',\n",
       "   'filename': 'surrogate_models.pkl',\n",
       "   'filesize': 3654563083,\n",
       "   'id': 'a270d87e-b2a9-45f7-a8fb-887e8044e5d6',\n",
       "   'links': {'download': 'https://zenodo.org/api/files/38a5a2f8-762b-4393-89d1-68edbdbdc90d/surrogate_models.pkl',\n",
       "    'self': 'https://zenodo.org/api/deposit/depositions/7696165/files/a270d87e-b2a9-45f7-a8fb-887e8044e5d6'}}],\n",
       " 'id': 7696165,\n",
       " 'links': {'badge': 'https://zenodo.org/badge/doi/10.5281/zenodo.7696165.svg',\n",
       "  'bucket': 'https://zenodo.org/api/files/38a5a2f8-762b-4393-89d1-68edbdbdc90d',\n",
       "  'conceptbadge': 'https://zenodo.org/badge/doi/10.5281/zenodo.7513018.svg',\n",
       "  'conceptdoi': 'https://doi.org/10.5281/zenodo.7513018',\n",
       "  'discard': 'https://zenodo.org/api/deposit/depositions/7696165/actions/discard',\n",
       "  'doi': 'https://doi.org/10.5281/zenodo.7696165',\n",
       "  'edit': 'https://zenodo.org/api/deposit/depositions/7696165/actions/edit',\n",
       "  'files': 'https://zenodo.org/api/deposit/depositions/7696165/files',\n",
       "  'html': 'https://zenodo.org/deposit/7696165',\n",
       "  'latest': 'https://zenodo.org/api/records/7653759',\n",
       "  'latest_draft': 'https://zenodo.org/api/deposit/depositions/7696165',\n",
       "  'latest_draft_html': 'https://zenodo.org/deposit/7696165',\n",
       "  'latest_html': 'https://zenodo.org/record/7653759',\n",
       "  'newversion': 'https://zenodo.org/api/deposit/depositions/7696165/actions/newversion',\n",
       "  'publish': 'https://zenodo.org/api/deposit/depositions/7696165/actions/publish',\n",
       "  'registerconceptdoi': 'https://zenodo.org/api/deposit/depositions/7696165/actions/registerconceptdoi',\n",
       "  'self': 'https://zenodo.org/api/deposit/depositions/7696165'},\n",
       " 'metadata': {'access_right': 'open',\n",
       "  'communities': [{'identifier': 'zenodo'}],\n",
       "  'creators': [{'affiliation': 'University of Utah',\n",
       "    'name': 'Baird, Sterling G.',\n",
       "    'orcid': '0000-0002-4491-6876'},\n",
       "   {'affiliation': 'University of Utah',\n",
       "    'name': 'Issa, Ramsey',\n",
       "    'orcid': '0000-0001-7885-2826'}],\n",
       "  'description': '<p>Benchmarks are an essential driver of progress in scientific disciplines. Ideal benchmarks mimic real-world tasks as closely as possible, where insufficient difficulty or applicability can stunt growth in the field. Benchmarks should also have sufficiently low computational overhead to promote accessibility and repeatability. The goal is then to win a &ldquo;Turing test&rdquo; of sorts by creating a surrogate model that is indistinguishable from the ground truth observation (at least within the dataset bounds that were explored), necessitating a large amount of data. In the fields of materials science and chemistry, industry-relevant optimization tasks are often hierarchical, noisy, multi-fidelity, multi-objective, high-dimensional, and non-linearly correlated while exhibiting mixed numerical and categorical variables subject to linear and non-linear constraints. To complicate matters, unexpected, failed simulation or experimental regions may be present in the search space. In this study, 438371 random hard-sphere packing simulations representing 279 CPU days worth of computational overhead were performed across nine input parameters with linear constraints and two discrete fidelities each with continuous fidelity parameters and results were logged to a free-tier shared MongoDB Atlas database. Two core tabular datasets resulted from this study: 1. a failure probability dataset containing unique input parameter sets and the estimated probabilities that the simulation will fail at each of the two steps, and 2. a regression dataset mapping input parameter sets (including repeats) to particle packing fractions and computational runtimes for each of the two steps. These two datasets are used to create a surrogate model as close as possible to running the actual simulations by incorporating simulation failure and heteroskedastic noise. For the regression dataset, percentile ranks were computed within each of the groups of identical parameter sets to enable capturing heteroskedastic noise. This is in contrast with a more traditional approach that imposes a-priori assumptions such as Gaussian noise e.g., by providing a mean and standard deviation. A similar approach can be applied to other benchmark datasets to bridge the gap between optimization benchmarks with low computational overhead and realistically complex, real-world optimization scenarios.</p>\\n\\n<p>For usage instructions, see&nbsp;https://matsci-opt-benchmarks.readthedocs.io/.</p>',\n",
       "  'doi': '10.5281/zenodo.7696165',\n",
       "  'keywords': ['materials informatics',\n",
       "   'materials benchmarking',\n",
       "   'multi-fidelity optimization',\n",
       "   'Bayesian optimization'],\n",
       "  'language': 'eng',\n",
       "  'license': 'CC0-1.0',\n",
       "  'notes': 'This work was supported by the National Science Foundation Division of Materials Research [Grant no. DMR-1651668].',\n",
       "  'prereserve_doi': {'doi': '10.5281/zenodo.7696165', 'recid': 7696165},\n",
       "  'publication_date': '2023-03-03',\n",
       "  'related_identifiers': [{'identifier': '10.5281/zenodo.7513043',\n",
       "    'relation': 'isCompiledBy',\n",
       "    'resource_type': 'software',\n",
       "    'scheme': 'doi'},\n",
       "   {'identifier': '10.26434/chemrxiv-2023-fjjk7',\n",
       "    'relation': 'isCitedBy',\n",
       "    'scheme': 'doi'}],\n",
       "  'title': 'A Multi-Objective, Multi-Fidelity Materials Science Optimization Benchmark Dataset for Hard-Sphere Packing Simulations',\n",
       "  'upload_type': 'dataset',\n",
       "  'version': '2023-03-03'},\n",
       " 'modified': '2023-03-03T14:19:59.445108+00:00',\n",
       " 'owner': 259510,\n",
       " 'record_id': 7696165,\n",
       " 'state': 'unsubmitted',\n",
       " 'submitted': False,\n",
       " 'title': 'A Multi-Objective, Multi-Fidelity Materials Science Optimization Benchmark Dataset for Hard-Sphere Packing Simulations'}"
      ]
     },
     "execution_count": 28,
     "metadata": {},
     "output_type": "execute_result"
    }
   ],
   "source": [
    "r = requests.get(\n",
    "    f\"{url}/api/deposit/depositions/{deposition_id}\", params={\"access_token\": access_token}\n",
    ")\n",
    "r.json()"
   ]
  },
  {
   "cell_type": "code",
   "execution_count": 31,
   "metadata": {},
   "outputs": [
    {
     "data": {
      "text/plain": [
       "{'badge': 'https://zenodo.org/badge/doi/10.5281/zenodo.7696165.svg',\n",
       " 'bucket': 'https://zenodo.org/api/files/38a5a2f8-762b-4393-89d1-68edbdbdc90d',\n",
       " 'conceptbadge': 'https://zenodo.org/badge/doi/10.5281/zenodo.7513018.svg',\n",
       " 'conceptdoi': 'https://doi.org/10.5281/zenodo.7513018',\n",
       " 'discard': 'https://zenodo.org/api/deposit/depositions/7696165/actions/discard',\n",
       " 'doi': 'https://doi.org/10.5281/zenodo.7696165',\n",
       " 'edit': 'https://zenodo.org/api/deposit/depositions/7696165/actions/edit',\n",
       " 'files': 'https://zenodo.org/api/deposit/depositions/7696165/files',\n",
       " 'html': 'https://zenodo.org/deposit/7696165',\n",
       " 'latest': 'https://zenodo.org/api/records/7653759',\n",
       " 'latest_draft': 'https://zenodo.org/api/deposit/depositions/7696165',\n",
       " 'latest_draft_html': 'https://zenodo.org/deposit/7696165',\n",
       " 'latest_html': 'https://zenodo.org/record/7653759',\n",
       " 'newversion': 'https://zenodo.org/api/deposit/depositions/7696165/actions/newversion',\n",
       " 'publish': 'https://zenodo.org/api/deposit/depositions/7696165/actions/publish',\n",
       " 'registerconceptdoi': 'https://zenodo.org/api/deposit/depositions/7696165/actions/registerconceptdoi',\n",
       " 'self': 'https://zenodo.org/api/deposit/depositions/7696165'}"
      ]
     },
     "execution_count": 31,
     "metadata": {},
     "output_type": "execute_result"
    }
   ],
   "source": [
    "r.json()[\"links\"]"
   ]
  },
  {
   "cell_type": "code",
   "execution_count": 32,
   "metadata": {},
   "outputs": [
    {
     "data": {
      "text/plain": [
       "'https://zenodo.org/api/files/38a5a2f8-762b-4393-89d1-68edbdbdc90d'"
      ]
     },
     "execution_count": 32,
     "metadata": {},
     "output_type": "execute_result"
    }
   ],
   "source": [
    "bucket_url = r.json()[\"links\"][\"bucket\"]\n",
    "bucket_url"
   ]
  },
  {
   "cell_type": "code",
   "execution_count": 33,
   "metadata": {},
   "outputs": [
    {
     "name": "stdout",
     "output_type": "stream",
     "text": [
      "{'status': 400, 'message': None}\n"
     ]
    }
   ],
   "source": [
    "# res = requests.post(\n",
    "#     url + \"/api/deposit/depositions/\" + deposition_id + \"/actions/newversion\",\n",
    "#     params={\"access_token\": access_token},\n",
    "# )\n",
    "\n",
    "# In the new files API we use a PUT request to a 'bucket' link, which is the container for files\n",
    "# bucket url looks like this: 'https://sandbox.zenodo.org/api/files/12341234-abcd-1234-abcd-0e62efee00c0'\n",
    "\n",
    "\n",
    "# We pass the file object (fp) directly to request as 'data' for stream upload\n",
    "# the target URL is the URL of the bucket and the desired filename on Zenodo seprated by\n",
    "# slash\n",
    "\n",
    "with open(\"./test-file.txt\", \"rb\") as fp:\n",
    "    r = requests.put(\n",
    "        bucket_url + \"/test-file.txt\",\n",
    "        data=fp,\n",
    "        # No headers included in the request, since it's a raw byte request\n",
    "        params=params,\n",
    "    )\n",
    "print(r.json())"
   ]
  },
  {
   "cell_type": "code",
   "execution_count": null,
   "metadata": {},
   "outputs": [],
   "source": []
  }
 ],
 "metadata": {
  "kernelspec": {
   "display_name": "matsci-opt-benchmarks",
   "language": "python",
   "name": "python3"
  },
  "language_info": {
   "codemirror_mode": {
    "name": "ipython",
    "version": 3
   },
   "file_extension": ".py",
   "mimetype": "text/x-python",
   "name": "python",
   "nbconvert_exporter": "python",
   "pygments_lexer": "ipython3",
   "version": "3.10.9"
  },
  "orig_nbformat": 4,
  "vscode": {
   "interpreter": {
    "hash": "01883adffc5ff99e80740fdb2688c7d7f1b5220f2274814f600fbe3b3887f376"
   }
  }
 },
 "nbformat": 4,
 "nbformat_minor": 2
}
