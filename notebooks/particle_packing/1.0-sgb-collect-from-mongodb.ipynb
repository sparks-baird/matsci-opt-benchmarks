{
 "cells": [
  {
   "cell_type": "code",
   "execution_count": 3,
   "metadata": {},
   "outputs": [],
   "source": [
    "from my_secrets import MONGODB_USERNAME, MONGODB_PASSWORD\n",
    "from pymongo import MongoClient\n",
    "\n",
    "# Requires the PyMongo package.\n",
    "# https://api.mongodb.com/python/current\n",
    "\n",
    "cluster_uri = \"cluster0.n03mvdg\"\n",
    "client = MongoClient(\n",
    "    f\"mongodb+srv://{MONGODB_USERNAME}:{MONGODB_PASSWORD}@{cluster_uri}.mongodb.net/?retryWrites=true&w=majority\"\n",
    ")"
   ]
  },
  {
   "cell_type": "code",
   "execution_count": 4,
   "metadata": {},
   "outputs": [
    {
     "name": "stderr",
     "output_type": "stream",
     "text": [
      "100%|██████████| 494498/494498 [00:18<00:00, 26305.92it/s]\n"
     ]
    }
   ],
   "source": [
    "from tqdm import tqdm\n",
    "db = client[\"particle-packing\"]\n",
    "collection = db[\"sobol\"]\n",
    "# results = collection.aggregate([{\"$match\": {\"fba\": {\"$exists\": True}}}])\n",
    "filter = {\"fba\": {\"$exists\": True}}\n",
    "num_docs = collection.count_documents(filter)\n",
    "cursor = collection.find(filter)\n",
    "results = []\n",
    "for result in tqdm(cursor, total=num_docs):\n",
    "    results.append(result)"
   ]
  },
  {
   "cell_type": "code",
   "execution_count": 5,
   "metadata": {},
   "outputs": [
    {
     "data": {
      "text/plain": [
       "Index(['mu1', 'mu2', 'mu3', 'std1', 'std2', 'std3', 'comp1', 'comp2', 'comp3',\n",
       "       'num_particles', 'safety_factor', 'fba', 'fba_time_s', 'ls',\n",
       "       'ls_time_s', 'session_id', 'timestamp', 'date', 'runtime', 'seed',\n",
       "       'num_samples', 'num_repeats'],\n",
       "      dtype='object')"
      ]
     },
     "execution_count": 5,
     "metadata": {},
     "output_type": "execute_result"
    }
   ],
   "source": [
    "import pandas as pd\n",
    "df = pd.DataFrame(results).set_index(\"_id\")\n",
    "df.to_csv(\"../../data/external/particle_packing_sobol.csv\")\n",
    "df.columns"
   ]
  },
  {
   "cell_type": "code",
   "execution_count": 6,
   "metadata": {},
   "outputs": [
    {
     "data": {
      "text/plain": [
       "35.94756305445025"
      ]
     },
     "execution_count": 6,
     "metadata": {},
     "output_type": "execute_result"
    }
   ],
   "source": [
    "df[\"runtime\"].mean()"
   ]
  },
  {
   "cell_type": "code",
   "execution_count": null,
   "metadata": {},
   "outputs": [],
   "source": []
  }
 ],
 "metadata": {
  "kernelspec": {
   "display_name": "matsci-opt-benchmarks",
   "language": "python",
   "name": "python3"
  },
  "language_info": {
   "codemirror_mode": {
    "name": "ipython",
    "version": 3
   },
   "file_extension": ".py",
   "mimetype": "text/x-python",
   "name": "python",
   "nbconvert_exporter": "python",
   "pygments_lexer": "ipython3",
   "version": "3.10.9"
  },
  "orig_nbformat": 4,
  "vscode": {
   "interpreter": {
    "hash": "01883adffc5ff99e80740fdb2688c7d7f1b5220f2274814f600fbe3b3887f376"
   }
  }
 },
 "nbformat": 4,
 "nbformat_minor": 2
}
