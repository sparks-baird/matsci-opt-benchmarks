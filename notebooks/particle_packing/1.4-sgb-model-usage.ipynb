{
 "cells": [
  {
   "cell_type": "code",
   "execution_count": 1,
   "metadata": {},
   "outputs": [],
   "source": [
    "from zenodo_client import Zenodo\n",
    "\n",
    "zenodo = Zenodo()\n",
    "record_id = \"7513019\"\n",
    "fpath = zenodo.download_latest(record_id, \"surrogate_models.pkl\")"
   ]
  },
  {
   "cell_type": "code",
   "execution_count": 13,
   "metadata": {},
   "outputs": [],
   "source": [
    "# HACK: hardcoded path for now\n",
    "fpath = \"../../models/particle_packing/surrogate_models.pkl\""
   ]
  },
  {
   "cell_type": "code",
   "execution_count": null,
   "metadata": {},
   "outputs": [],
   "source": [
    "from pystow import ensure\n",
    "key = \n",
    "\n",
    "class ParticlePackingSurrogate(object):\n",
    "    def __init__(self, fpath):\n",
    "        if fpath is None:\n",
    "            \n",
    "        self.models = models\n",
    "\n",
    "with open()\n",
    "\n",
    "def predict(mu1, mu2, mu3, std1, std2, std3, comp1, comp2, comp3, num_particles, safety_factor):"
   ]
  },
  {
   "cell_type": "code",
   "execution_count": 14,
   "metadata": {},
   "outputs": [
    {
     "ename": "MemoryError",
     "evalue": "Unable to allocate 29.6 MiB for an array with shape (553489,) and data type [('left_child', '<i8'), ('right_child', '<i8'), ('feature', '<i8'), ('threshold', '<f8'), ('impurity', '<f8'), ('n_node_samples', '<i8'), ('weighted_n_node_samples', '<f8')]",
     "output_type": "error",
     "traceback": [
      "\u001b[1;31m---------------------------------------------------------------------------\u001b[0m",
      "\u001b[1;31mMemoryError\u001b[0m                               Traceback (most recent call last)",
      "Cell \u001b[1;32mIn[14], line 4\u001b[0m\n\u001b[0;32m      1\u001b[0m \u001b[39mimport\u001b[39;00m \u001b[39mjoblib\u001b[39;00m\n\u001b[0;32m      3\u001b[0m \u001b[39mwith\u001b[39;00m \u001b[39mopen\u001b[39m(fpath, \u001b[39m\"\u001b[39m\u001b[39mrb\u001b[39m\u001b[39m\"\u001b[39m) \u001b[39mas\u001b[39;00m f:\n\u001b[1;32m----> 4\u001b[0m     models \u001b[39m=\u001b[39m joblib\u001b[39m.\u001b[39;49mload(f)\n",
      "File \u001b[1;32mc:\\Users\\sterg\\Miniconda3\\envs\\matsci-opt-benchmarks\\lib\\site-packages\\joblib\\numpy_pickle.py:648\u001b[0m, in \u001b[0;36mload\u001b[1;34m(filename, mmap_mode)\u001b[0m\n\u001b[0;32m    646\u001b[0m     filename \u001b[39m=\u001b[39m \u001b[39mgetattr\u001b[39m(fobj, \u001b[39m'\u001b[39m\u001b[39mname\u001b[39m\u001b[39m'\u001b[39m, \u001b[39m'\u001b[39m\u001b[39m'\u001b[39m)\n\u001b[0;32m    647\u001b[0m     \u001b[39mwith\u001b[39;00m _read_fileobject(fobj, filename, mmap_mode) \u001b[39mas\u001b[39;00m fobj:\n\u001b[1;32m--> 648\u001b[0m         obj \u001b[39m=\u001b[39m _unpickle(fobj)\n\u001b[0;32m    649\u001b[0m \u001b[39melse\u001b[39;00m:\n\u001b[0;32m    650\u001b[0m     \u001b[39mwith\u001b[39;00m \u001b[39mopen\u001b[39m(filename, \u001b[39m'\u001b[39m\u001b[39mrb\u001b[39m\u001b[39m'\u001b[39m) \u001b[39mas\u001b[39;00m f:\n",
      "File \u001b[1;32mc:\\Users\\sterg\\Miniconda3\\envs\\matsci-opt-benchmarks\\lib\\site-packages\\joblib\\numpy_pickle.py:577\u001b[0m, in \u001b[0;36m_unpickle\u001b[1;34m(fobj, filename, mmap_mode)\u001b[0m\n\u001b[0;32m    575\u001b[0m obj \u001b[39m=\u001b[39m \u001b[39mNone\u001b[39;00m\n\u001b[0;32m    576\u001b[0m \u001b[39mtry\u001b[39;00m:\n\u001b[1;32m--> 577\u001b[0m     obj \u001b[39m=\u001b[39m unpickler\u001b[39m.\u001b[39;49mload()\n\u001b[0;32m    578\u001b[0m     \u001b[39mif\u001b[39;00m unpickler\u001b[39m.\u001b[39mcompat_mode:\n\u001b[0;32m    579\u001b[0m         warnings\u001b[39m.\u001b[39mwarn(\u001b[39m\"\u001b[39m\u001b[39mThe file \u001b[39m\u001b[39m'\u001b[39m\u001b[39m%s\u001b[39;00m\u001b[39m'\u001b[39m\u001b[39m has been generated with a \u001b[39m\u001b[39m\"\u001b[39m\n\u001b[0;32m    580\u001b[0m                       \u001b[39m\"\u001b[39m\u001b[39mjoblib version less than 0.10. \u001b[39m\u001b[39m\"\u001b[39m\n\u001b[0;32m    581\u001b[0m                       \u001b[39m\"\u001b[39m\u001b[39mPlease regenerate this pickle file.\u001b[39m\u001b[39m\"\u001b[39m\n\u001b[0;32m    582\u001b[0m                       \u001b[39m%\u001b[39m filename,\n\u001b[0;32m    583\u001b[0m                       \u001b[39mDeprecationWarning\u001b[39;00m, stacklevel\u001b[39m=\u001b[39m\u001b[39m3\u001b[39m)\n",
      "File \u001b[1;32mc:\\Users\\sterg\\Miniconda3\\envs\\matsci-opt-benchmarks\\lib\\pickle.py:1213\u001b[0m, in \u001b[0;36m_Unpickler.load\u001b[1;34m(self)\u001b[0m\n\u001b[0;32m   1211\u001b[0m             \u001b[39mraise\u001b[39;00m \u001b[39mEOFError\u001b[39;00m\n\u001b[0;32m   1212\u001b[0m         \u001b[39massert\u001b[39;00m \u001b[39misinstance\u001b[39m(key, bytes_types)\n\u001b[1;32m-> 1213\u001b[0m         dispatch[key[\u001b[39m0\u001b[39;49m]](\u001b[39mself\u001b[39;49m)\n\u001b[0;32m   1214\u001b[0m \u001b[39mexcept\u001b[39;00m _Stop \u001b[39mas\u001b[39;00m stopinst:\n\u001b[0;32m   1215\u001b[0m     \u001b[39mreturn\u001b[39;00m stopinst\u001b[39m.\u001b[39mvalue\n",
      "File \u001b[1;32mc:\\Users\\sterg\\Miniconda3\\envs\\matsci-opt-benchmarks\\lib\\site-packages\\joblib\\numpy_pickle.py:415\u001b[0m, in \u001b[0;36mNumpyUnpickler.load_build\u001b[1;34m(self)\u001b[0m\n\u001b[0;32m    413\u001b[0m \u001b[39mif\u001b[39;00m \u001b[39misinstance\u001b[39m(array_wrapper, NDArrayWrapper):\n\u001b[0;32m    414\u001b[0m     \u001b[39mself\u001b[39m\u001b[39m.\u001b[39mcompat_mode \u001b[39m=\u001b[39m \u001b[39mTrue\u001b[39;00m\n\u001b[1;32m--> 415\u001b[0m \u001b[39mself\u001b[39m\u001b[39m.\u001b[39mstack\u001b[39m.\u001b[39mappend(array_wrapper\u001b[39m.\u001b[39;49mread(\u001b[39mself\u001b[39;49m))\n",
      "File \u001b[1;32mc:\\Users\\sterg\\Miniconda3\\envs\\matsci-opt-benchmarks\\lib\\site-packages\\joblib\\numpy_pickle.py:252\u001b[0m, in \u001b[0;36mNumpyArrayWrapper.read\u001b[1;34m(self, unpickler)\u001b[0m\n\u001b[0;32m    250\u001b[0m     array \u001b[39m=\u001b[39m \u001b[39mself\u001b[39m\u001b[39m.\u001b[39mread_mmap(unpickler)\n\u001b[0;32m    251\u001b[0m \u001b[39melse\u001b[39;00m:\n\u001b[1;32m--> 252\u001b[0m     array \u001b[39m=\u001b[39m \u001b[39mself\u001b[39;49m\u001b[39m.\u001b[39;49mread_array(unpickler)\n\u001b[0;32m    254\u001b[0m \u001b[39m# Manage array subclass case\u001b[39;00m\n\u001b[0;32m    255\u001b[0m \u001b[39mif\u001b[39;00m (\u001b[39mhasattr\u001b[39m(array, \u001b[39m'\u001b[39m\u001b[39m__array_prepare__\u001b[39m\u001b[39m'\u001b[39m) \u001b[39mand\u001b[39;00m\n\u001b[0;32m    256\u001b[0m     \u001b[39mself\u001b[39m\u001b[39m.\u001b[39msubclass \u001b[39mnot\u001b[39;00m \u001b[39min\u001b[39;00m (unpickler\u001b[39m.\u001b[39mnp\u001b[39m.\u001b[39mndarray,\n\u001b[0;32m    257\u001b[0m                           unpickler\u001b[39m.\u001b[39mnp\u001b[39m.\u001b[39mmemmap)):\n\u001b[0;32m    258\u001b[0m     \u001b[39m# We need to reconstruct another subclass\u001b[39;00m\n",
      "File \u001b[1;32mc:\\Users\\sterg\\Miniconda3\\envs\\matsci-opt-benchmarks\\lib\\site-packages\\joblib\\numpy_pickle.py:173\u001b[0m, in \u001b[0;36mNumpyArrayWrapper.read_array\u001b[1;34m(self, unpickler)\u001b[0m\n\u001b[0;32m    163\u001b[0m \u001b[39m# This is not a real file. We have to read it the\u001b[39;00m\n\u001b[0;32m    164\u001b[0m \u001b[39m# memory-intensive way.\u001b[39;00m\n\u001b[0;32m    165\u001b[0m \u001b[39m# crc32 module fails on reads greater than 2 ** 32 bytes,\u001b[39;00m\n\u001b[1;32m   (...)\u001b[0m\n\u001b[0;32m    168\u001b[0m \u001b[39m# of the read. In non-chunked case count < max_read_count, so\u001b[39;00m\n\u001b[0;32m    169\u001b[0m \u001b[39m# only one read is performed.\u001b[39;00m\n\u001b[0;32m    170\u001b[0m max_read_count \u001b[39m=\u001b[39m BUFFER_SIZE \u001b[39m/\u001b[39m\u001b[39m/\u001b[39m \u001b[39mmin\u001b[39m(BUFFER_SIZE,\n\u001b[0;32m    171\u001b[0m                                     \u001b[39mself\u001b[39m\u001b[39m.\u001b[39mdtype\u001b[39m.\u001b[39mitemsize)\n\u001b[1;32m--> 173\u001b[0m array \u001b[39m=\u001b[39m unpickler\u001b[39m.\u001b[39;49mnp\u001b[39m.\u001b[39;49mempty(count, dtype\u001b[39m=\u001b[39;49m\u001b[39mself\u001b[39;49m\u001b[39m.\u001b[39;49mdtype)\n\u001b[0;32m    174\u001b[0m \u001b[39mfor\u001b[39;00m i \u001b[39min\u001b[39;00m \u001b[39mrange\u001b[39m(\u001b[39m0\u001b[39m, count, max_read_count):\n\u001b[0;32m    175\u001b[0m     read_count \u001b[39m=\u001b[39m \u001b[39mmin\u001b[39m(max_read_count, count \u001b[39m-\u001b[39m i)\n",
      "\u001b[1;31mMemoryError\u001b[0m: Unable to allocate 29.6 MiB for an array with shape (553489,) and data type [('left_child', '<i8'), ('right_child', '<i8'), ('feature', '<i8'), ('threshold', '<f8'), ('impurity', '<f8'), ('n_node_samples', '<i8'), ('weighted_n_node_samples', '<f8')]"
     ]
    }
   ],
   "source": [
    "import joblib\n",
    "\n",
    "with open(fpath, \"rb\") as f:\n",
    "    models = joblib.load(f)"
   ]
  },
  {
   "cell_type": "code",
   "execution_count": null,
   "metadata": {},
   "outputs": [],
   "source": []
  }
 ],
 "metadata": {
  "kernelspec": {
   "display_name": "Python 3",
   "language": "python",
   "name": "python3"
  },
  "language_info": {
   "codemirror_mode": {
    "name": "ipython",
    "version": 3
   },
   "file_extension": ".py",
   "mimetype": "text/x-python",
   "name": "python",
   "nbconvert_exporter": "python",
   "pygments_lexer": "ipython3",
   "version": "3.10.9"
  },
  "orig_nbformat": 4,
  "vscode": {
   "interpreter": {
    "hash": "e19409612ae03435658261429b42da85155baf08f8f23ce7d549f0541569b2a3"
   }
  }
 },
 "nbformat": 4,
 "nbformat_minor": 2
}
