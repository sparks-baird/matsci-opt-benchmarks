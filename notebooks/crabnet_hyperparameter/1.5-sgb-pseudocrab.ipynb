{
 "cells": [
  {
   "attachments": {},
   "cell_type": "markdown",
   "metadata": {},
   "source": [
    "Run a simple test using the PseudoCrabMinimal benchmark. Note that the sum of the\n",
    "parameters needs to equal 1.0."
   ]
  },
  {
   "cell_type": "code",
   "execution_count": 15,
   "metadata": {},
   "outputs": [
    {
     "name": "stdout",
     "output_type": "stream",
     "text": [
      "The autoreload extension is already loaded. To reload it, use:\n",
      "  %reload_ext autoreload\n"
     ]
    }
   ],
   "source": [
    "%load_ext autoreload\n",
    "%autoreload 2\n",
    "from matsci_opt_benchmarks.crabnet_hyperparameter.core import PseudoCrabMinimal"
   ]
  },
  {
   "cell_type": "code",
   "execution_count": 16,
   "metadata": {},
   "outputs": [],
   "source": [
    "pc = PseudoCrabMinimal(dummy=True)"
   ]
  },
  {
   "cell_type": "code",
   "execution_count": 17,
   "metadata": {},
   "outputs": [
    {
     "name": "stdout",
     "output_type": "stream",
     "text": [
      "1.0\n",
      "user parameters are : {'pos_scaler': 0.5, 'weight_decay': 0.2, 'train_frac': 0.307}\n",
      "{'N': 3, 'alpha': 0.5, 'd_model': 512, 'dim_feedforward': 2048, 'dropout': 0.1, 'emb_scaler': 1.0, 'eps': 1e-06, 'epochs_step': 10, 'fudge': 0.02, 'heads': 4, 'k': 6, 'lr': 0.001, 'pe_resolution': 5000, 'ple_resolution': 5000, 'pos_scaler': 0.5, 'weight_decay': 0.2, 'batch_size': 32, 'out_hidden4': 128, 'betas1': 0.9, 'betas2': 0.999, 'train_frac': 0.307, 'bias': False, 'criterion': 'RobustL1', 'elem_prop': 'mat2vec'}\n"
     ]
    }
   ],
   "source": [
    "results = pc.evaluate({\"x1\": 0.5, \"x2\": 0.2, \"x3\": 0.3}, dummy=True)"
   ]
  },
  {
   "cell_type": "code",
   "execution_count": 18,
   "metadata": {},
   "outputs": [
    {
     "data": {
      "text/plain": [
       "{'mae': 0.4756186025567695}"
      ]
     },
     "execution_count": 18,
     "metadata": {},
     "output_type": "execute_result"
    }
   ],
   "source": [
    "results"
   ]
  },
  {
   "attachments": {},
   "cell_type": "markdown",
   "metadata": {},
   "source": [
    "Next, we'll use [Ax](https://ax.dev) to minimize the MAE. We'll reparameterize the\n",
    "following constraint:\n",
    "$x_1 + x_2 + x_3 = 1.0$\n",
    "\n",
    "into:\n",
    "\n",
    "$x_1 + x_2 \\le 1.0$ and $x_3 = x_1 + x_2 - 1.0$\n",
    "\n",
    "and remove $x_3$ from the search space by calculating it from $x_1$ and $x_2$ in the\n",
    "`evaluate` function."
   ]
  },
  {
   "cell_type": "code",
   "execution_count": 19,
   "metadata": {},
   "outputs": [
    {
     "name": "stderr",
     "output_type": "stream",
     "text": [
      "[INFO 03-21 22:56:59] ax.service.ax_client: Starting optimization with verbose logging. To disable logging, set the `verbose_logging` argument to `False`. Note that float values in the logs are rounded to 6 decimal points.\n",
      "[INFO 03-21 22:56:59] ax.service.utils.instantiation: Inferred value type of ParameterType.FLOAT for parameter x2. If that is not the expected value type, you can explicity specify 'value_type' ('int', 'float', 'bool' or 'str') in parameter dict.\n",
      "[INFO 03-21 22:56:59] ax.service.utils.instantiation: Created search space: SearchSpace(parameters=[RangeParameter(name='x1', parameter_type=FLOAT, range=[0.0, 1.0]), RangeParameter(name='x2', parameter_type=FLOAT, range=[0.0, 1.0])], parameter_constraints=[ParameterConstraint(1.0*x1 + 1.0*x2 <= 1.0)]).\n",
      "[INFO 03-21 22:56:59] ax.modelbridge.dispatch_utils: Using Bayesian optimization since there are more ordered parameters than there are categories for the unordered categorical parameters.\n",
      "[INFO 03-21 22:56:59] ax.modelbridge.dispatch_utils: Calculating the number of remaining initialization trials based on num_initialization_trials=None max_initialization_trials=None num_tunable_parameters=2 num_trials=None use_batch_trials=False\n",
      "[INFO 03-21 22:56:59] ax.modelbridge.dispatch_utils: calculated num_initialization_trials=5\n",
      "[INFO 03-21 22:56:59] ax.modelbridge.dispatch_utils: num_completed_initialization_trials=0 num_remaining_initialization_trials=5\n",
      "[INFO 03-21 22:56:59] ax.modelbridge.dispatch_utils: Using Bayesian Optimization generation strategy: GenerationStrategy(name='Sobol+GPEI', steps=[Sobol for 5 trials, GPEI for subsequent trials]). Iterations after 5 will take longer to generate due to model-fitting.\n",
      "c:\\Users\\sterg\\Miniconda3\\envs\\matsci-opt-benchmarks\\lib\\site-packages\\ax\\core\\observation.py:274: FutureWarning: In a future version of pandas, a length 1 tuple will be returned when iterating over a groupby with a grouper equal to a list of length 1. Don't supply a list with a single grouper to avoid this warning.\n",
      "  for g, d in df.groupby(by=cols):\n",
      "[INFO 03-21 22:56:59] ax.service.ax_client: Generated new trial 0 with parameters {'x1': 0.111134, 'x2': 0.787977}.\n"
     ]
    },
    {
     "name": "stdout",
     "output_type": "stream",
     "text": [
      "1.0\n",
      "user parameters are : {'pos_scaler': 0.11113402, 'weight_decay': 0.7879766, 'train_frac': 0.10988047}\n",
      "{'N': 3, 'alpha': 0.5, 'd_model': 512, 'dim_feedforward': 2048, 'dropout': 0.1, 'emb_scaler': 1.0, 'eps': 1e-06, 'epochs_step': 10, 'fudge': 0.02, 'heads': 4, 'k': 6, 'lr': 0.001, 'pe_resolution': 5000, 'ple_resolution': 5000, 'pos_scaler': 0.11113402, 'weight_decay': 0.7879766, 'batch_size': 32, 'out_hidden4': 128, 'betas1': 0.9, 'betas2': 0.999, 'train_frac': 0.10988047, 'bias': False, 'criterion': 'RobustL1', 'elem_prop': 'mat2vec'}\n"
     ]
    },
    {
     "name": "stderr",
     "output_type": "stream",
     "text": [
      "[INFO 03-21 22:57:00] ax.service.ax_client: Completed trial 0 with data: {'mae': (0.737133, None)}.\n",
      "[INFO 03-21 22:57:00] ax.service.ax_client: Generated new trial 1 with parameters {'x1': 0.347143, 'x2': 0.558201}.\n"
     ]
    },
    {
     "name": "stdout",
     "output_type": "stream",
     "text": [
      "1.0\n",
      "user parameters are : {'pos_scaler': 0.34714317, 'weight_decay': 0.55820143, 'train_frac': 0.103708796}\n",
      "{'N': 3, 'alpha': 0.5, 'd_model': 512, 'dim_feedforward': 2048, 'dropout': 0.1, 'emb_scaler': 1.0, 'eps': 1e-06, 'epochs_step': 10, 'fudge': 0.02, 'heads': 4, 'k': 6, 'lr': 0.001, 'pe_resolution': 5000, 'ple_resolution': 5000, 'pos_scaler': 0.34714317, 'weight_decay': 0.55820143, 'batch_size': 32, 'out_hidden4': 128, 'betas1': 0.9, 'betas2': 0.999, 'train_frac': 0.103708796, 'bias': False, 'criterion': 'RobustL1', 'elem_prop': 'mat2vec'}\n"
     ]
    },
    {
     "name": "stderr",
     "output_type": "stream",
     "text": [
      "[INFO 03-21 22:57:00] ax.service.ax_client: Completed trial 1 with data: {'mae': (0.77037, None)}.\n",
      "[INFO 03-21 22:57:00] ax.service.ax_client: Generated new trial 2 with parameters {'x1': 0.150765, 'x2': 0.360584}.\n"
     ]
    },
    {
     "name": "stdout",
     "output_type": "stream",
     "text": [
      "1.0\n",
      "user parameters are : {'pos_scaler': 0.15076503, 'weight_decay': 0.36058417, 'train_frac': 0.49376428}\n",
      "{'N': 3, 'alpha': 0.5, 'd_model': 512, 'dim_feedforward': 2048, 'dropout': 0.1, 'emb_scaler': 1.0, 'eps': 1e-06, 'epochs_step': 10, 'fudge': 0.02, 'heads': 4, 'k': 6, 'lr': 0.001, 'pe_resolution': 5000, 'ple_resolution': 5000, 'pos_scaler': 0.15076503, 'weight_decay': 0.36058417, 'batch_size': 32, 'out_hidden4': 128, 'betas1': 0.9, 'betas2': 0.999, 'train_frac': 0.49376428, 'bias': False, 'criterion': 'RobustL1', 'elem_prop': 'mat2vec'}\n"
     ]
    },
    {
     "name": "stderr",
     "output_type": "stream",
     "text": [
      "[INFO 03-21 22:57:00] ax.service.ax_client: Completed trial 2 with data: {'mae': (0.463582, None)}.\n",
      "[INFO 03-21 22:57:00] ax.service.ax_client: Generated new trial 3 with parameters {'x1': 0.022402, 'x2': 0.584047}.\n",
      "[INFO 03-21 22:57:01] ax.service.ax_client: Completed trial 3 with data: {'mae': (0.461446, None)}.\n"
     ]
    },
    {
     "name": "stdout",
     "output_type": "stream",
     "text": [
      "1.0\n",
      "user parameters are : {'pos_scaler': 0.022402108, 'weight_decay': 0.5840469, 'train_frac': 0.39961547}\n",
      "{'N': 3, 'alpha': 0.5, 'd_model': 512, 'dim_feedforward': 2048, 'dropout': 0.1, 'emb_scaler': 1.0, 'eps': 1e-06, 'epochs_step': 10, 'fudge': 0.02, 'heads': 4, 'k': 6, 'lr': 0.001, 'pe_resolution': 5000, 'ple_resolution': 5000, 'pos_scaler': 0.022402108, 'weight_decay': 0.5840469, 'batch_size': 32, 'out_hidden4': 128, 'betas1': 0.9, 'betas2': 0.999, 'train_frac': 0.39961547, 'bias': False, 'criterion': 'RobustL1', 'elem_prop': 'mat2vec'}\n"
     ]
    },
    {
     "name": "stderr",
     "output_type": "stream",
     "text": [
      "[INFO 03-21 22:57:01] ax.service.ax_client: Generated new trial 4 with parameters {'x1': 0.890543, 'x2': 0.035222}.\n"
     ]
    },
    {
     "name": "stdout",
     "output_type": "stream",
     "text": [
      "1.0\n",
      "user parameters are : {'pos_scaler': 0.89054257, 'weight_decay': 0.035222497, 'train_frac': 0.083492555}\n",
      "{'N': 3, 'alpha': 0.5, 'd_model': 512, 'dim_feedforward': 2048, 'dropout': 0.1, 'emb_scaler': 1.0, 'eps': 1e-06, 'epochs_step': 10, 'fudge': 0.02, 'heads': 4, 'k': 6, 'lr': 0.001, 'pe_resolution': 5000, 'ple_resolution': 5000, 'pos_scaler': 0.89054257, 'weight_decay': 0.035222497, 'batch_size': 32, 'out_hidden4': 128, 'betas1': 0.9, 'betas2': 0.999, 'train_frac': 0.083492555, 'bias': False, 'criterion': 'RobustL1', 'elem_prop': 'mat2vec'}\n"
     ]
    },
    {
     "name": "stderr",
     "output_type": "stream",
     "text": [
      "[INFO 03-21 22:57:01] ax.service.ax_client: Completed trial 4 with data: {'mae': (0.790468, None)}.\n",
      "[INFO 03-21 22:57:13] ax.service.ax_client: Generated new trial 5 with parameters {'x1': 0.0, 'x2': 0.348168}.\n",
      "[INFO 03-21 22:57:13] ax.service.ax_client: Completed trial 5 with data: {'mae': (0.407706, None)}.\n"
     ]
    },
    {
     "name": "stdout",
     "output_type": "stream",
     "text": [
      "1.0\n",
      "user parameters are : {'pos_scaler': 0.0, 'weight_decay': 0.3481681, 'train_frac': 0.65531355}\n",
      "{'N': 3, 'alpha': 0.5, 'd_model': 512, 'dim_feedforward': 2048, 'dropout': 0.1, 'emb_scaler': 1.0, 'eps': 1e-06, 'epochs_step': 10, 'fudge': 0.02, 'heads': 4, 'k': 6, 'lr': 0.001, 'pe_resolution': 5000, 'ple_resolution': 5000, 'pos_scaler': 0.0, 'weight_decay': 0.3481681, 'batch_size': 32, 'out_hidden4': 128, 'betas1': 0.9, 'betas2': 0.999, 'train_frac': 0.65531355, 'bias': False, 'criterion': 'RobustL1', 'elem_prop': 'mat2vec'}\n"
     ]
    },
    {
     "name": "stderr",
     "output_type": "stream",
     "text": [
      "[INFO 03-21 22:57:22] ax.service.ax_client: Generated new trial 6 with parameters {'x1': 0.0, 'x2': 0.002701}.\n",
      "[INFO 03-21 22:57:22] ax.service.ax_client: Completed trial 6 with data: {'mae': (0.382316, None)}.\n"
     ]
    },
    {
     "name": "stdout",
     "output_type": "stream",
     "text": [
      "1.0\n",
      "user parameters are : {'pos_scaler': 0.0, 'weight_decay': 0.0027006671, 'train_frac': 0.9973263}\n",
      "{'N': 3, 'alpha': 0.5, 'd_model': 512, 'dim_feedforward': 2048, 'dropout': 0.1, 'emb_scaler': 1.0, 'eps': 1e-06, 'epochs_step': 10, 'fudge': 0.02, 'heads': 4, 'k': 6, 'lr': 0.001, 'pe_resolution': 5000, 'ple_resolution': 5000, 'pos_scaler': 0.0, 'weight_decay': 0.0027006671, 'batch_size': 32, 'out_hidden4': 128, 'betas1': 0.9, 'betas2': 0.999, 'train_frac': 0.9973263, 'bias': False, 'criterion': 'RobustL1', 'elem_prop': 'mat2vec'}\n"
     ]
    },
    {
     "name": "stderr",
     "output_type": "stream",
     "text": [
      "[INFO 03-21 22:57:31] ax.service.ax_client: Generated new trial 7 with parameters {'x1': 0.167883, 'x2': 0.0}.\n",
      "[INFO 03-21 22:57:31] ax.service.ax_client: Completed trial 7 with data: {'mae': (0.392367, None)}.\n"
     ]
    },
    {
     "name": "stdout",
     "output_type": "stream",
     "text": [
      "1.0\n",
      "user parameters are : {'pos_scaler': 0.16788316, 'weight_decay': 0.0, 'train_frac': 0.83379567}\n",
      "{'N': 3, 'alpha': 0.5, 'd_model': 512, 'dim_feedforward': 2048, 'dropout': 0.1, 'emb_scaler': 1.0, 'eps': 1e-06, 'epochs_step': 10, 'fudge': 0.02, 'heads': 4, 'k': 6, 'lr': 0.001, 'pe_resolution': 5000, 'ple_resolution': 5000, 'pos_scaler': 0.16788316, 'weight_decay': 0.0, 'batch_size': 32, 'out_hidden4': 128, 'betas1': 0.9, 'betas2': 0.999, 'train_frac': 0.83379567, 'bias': False, 'criterion': 'RobustL1', 'elem_prop': 'mat2vec'}\n"
     ]
    },
    {
     "name": "stderr",
     "output_type": "stream",
     "text": [
      "[INFO 03-21 22:57:44] ax.service.ax_client: Generated new trial 8 with parameters {'x1': 0.052892, 'x2': 0.131403}.\n",
      "[INFO 03-21 22:57:44] ax.service.ax_client: Completed trial 8 with data: {'mae': (0.42975, None)}.\n"
     ]
    },
    {
     "name": "stdout",
     "output_type": "stream",
     "text": [
      "1.0\n",
      "user parameters are : {'pos_scaler': 0.052891627, 'weight_decay': 0.13140295, 'train_frac': 0.8175484}\n",
      "{'N': 3, 'alpha': 0.5, 'd_model': 512, 'dim_feedforward': 2048, 'dropout': 0.1, 'emb_scaler': 1.0, 'eps': 1e-06, 'epochs_step': 10, 'fudge': 0.02, 'heads': 4, 'k': 6, 'lr': 0.001, 'pe_resolution': 5000, 'ple_resolution': 5000, 'pos_scaler': 0.052891627, 'weight_decay': 0.13140295, 'batch_size': 32, 'out_hidden4': 128, 'betas1': 0.9, 'betas2': 0.999, 'train_frac': 0.8175484, 'bias': False, 'criterion': 'RobustL1', 'elem_prop': 'mat2vec'}\n"
     ]
    },
    {
     "name": "stderr",
     "output_type": "stream",
     "text": [
      "[INFO 03-21 22:57:54] ax.service.ax_client: Generated new trial 9 with parameters {'x1': 0.356948, 'x2': 0.0}.\n",
      "[INFO 03-21 22:57:54] ax.service.ax_client: Completed trial 9 with data: {'mae': (0.413426, None)}.\n"
     ]
    },
    {
     "name": "stdout",
     "output_type": "stream",
     "text": [
      "1.0\n",
      "user parameters are : {'pos_scaler': 0.3569479, 'weight_decay': 1.479559e-14, 'train_frac': 0.6466216}\n",
      "{'N': 3, 'alpha': 0.5, 'd_model': 512, 'dim_feedforward': 2048, 'dropout': 0.1, 'emb_scaler': 1.0, 'eps': 1e-06, 'epochs_step': 10, 'fudge': 0.02, 'heads': 4, 'k': 6, 'lr': 0.001, 'pe_resolution': 5000, 'ple_resolution': 5000, 'pos_scaler': 0.3569479, 'weight_decay': 1.479559e-14, 'batch_size': 32, 'out_hidden4': 128, 'betas1': 0.9, 'betas2': 0.999, 'train_frac': 0.6466216, 'bias': False, 'criterion': 'RobustL1', 'elem_prop': 'mat2vec'}\n"
     ]
    },
    {
     "name": "stderr",
     "output_type": "stream",
     "text": [
      "[INFO 03-21 22:58:04] ax.service.ax_client: Generated new trial 10 with parameters {'x1': 0.0, 'x2': 0.444338}.\n",
      "[INFO 03-21 22:58:05] ax.service.ax_client: Completed trial 10 with data: {'mae': (0.433732, None)}.\n"
     ]
    },
    {
     "name": "stdout",
     "output_type": "stream",
     "text": [
      "1.0\n",
      "user parameters are : {'pos_scaler': 0.0, 'weight_decay': 0.4443376, 'train_frac': 0.5601058}\n",
      "{'N': 3, 'alpha': 0.5, 'd_model': 512, 'dim_feedforward': 2048, 'dropout': 0.1, 'emb_scaler': 1.0, 'eps': 1e-06, 'epochs_step': 10, 'fudge': 0.02, 'heads': 4, 'k': 6, 'lr': 0.001, 'pe_resolution': 5000, 'ple_resolution': 5000, 'pos_scaler': 0.0, 'weight_decay': 0.4443376, 'batch_size': 32, 'out_hidden4': 128, 'betas1': 0.9, 'betas2': 0.999, 'train_frac': 0.5601058, 'bias': False, 'criterion': 'RobustL1', 'elem_prop': 'mat2vec'}\n"
     ]
    },
    {
     "name": "stderr",
     "output_type": "stream",
     "text": [
      "[INFO 03-21 22:58:14] ax.service.ax_client: Generated new trial 11 with parameters {'x1': 0.253218, 'x2': 0.085563}.\n",
      "[INFO 03-21 22:58:15] ax.service.ax_client: Completed trial 11 with data: {'mae': (0.419092, None)}.\n"
     ]
    },
    {
     "name": "stdout",
     "output_type": "stream",
     "text": [
      "1.0\n",
      "user parameters are : {'pos_scaler': 0.2532185, 'weight_decay': 0.08556348, 'train_frac': 0.66460586}\n",
      "{'N': 3, 'alpha': 0.5, 'd_model': 512, 'dim_feedforward': 2048, 'dropout': 0.1, 'emb_scaler': 1.0, 'eps': 1e-06, 'epochs_step': 10, 'fudge': 0.02, 'heads': 4, 'k': 6, 'lr': 0.001, 'pe_resolution': 5000, 'ple_resolution': 5000, 'pos_scaler': 0.2532185, 'weight_decay': 0.08556348, 'batch_size': 32, 'out_hidden4': 128, 'betas1': 0.9, 'betas2': 0.999, 'train_frac': 0.66460586, 'bias': False, 'criterion': 'RobustL1', 'elem_prop': 'mat2vec'}\n"
     ]
    },
    {
     "name": "stderr",
     "output_type": "stream",
     "text": [
      "[INFO 03-21 22:58:24] ax.service.ax_client: Generated new trial 12 with parameters {'x1': 0.24774, 'x2': 0.0}.\n",
      "[INFO 03-21 22:58:25] ax.service.ax_client: Completed trial 12 with data: {'mae': (0.415969, None)}.\n"
     ]
    },
    {
     "name": "stdout",
     "output_type": "stream",
     "text": [
      "1.0\n",
      "user parameters are : {'pos_scaler': 0.24773976, 'weight_decay': 2.5159038e-16, 'train_frac': 0.7547376}\n",
      "{'N': 3, 'alpha': 0.5, 'd_model': 512, 'dim_feedforward': 2048, 'dropout': 0.1, 'emb_scaler': 1.0, 'eps': 1e-06, 'epochs_step': 10, 'fudge': 0.02, 'heads': 4, 'k': 6, 'lr': 0.001, 'pe_resolution': 5000, 'ple_resolution': 5000, 'pos_scaler': 0.24773976, 'weight_decay': 2.5159038e-16, 'batch_size': 32, 'out_hidden4': 128, 'betas1': 0.9, 'betas2': 0.999, 'train_frac': 0.7547376, 'bias': False, 'criterion': 'RobustL1', 'elem_prop': 'mat2vec'}\n"
     ]
    },
    {
     "name": "stderr",
     "output_type": "stream",
     "text": [
      "[INFO 03-21 22:58:34] ax.service.ax_client: Generated new trial 13 with parameters {'x1': 0.074174, 'x2': 0.0}.\n",
      "[INFO 03-21 22:58:34] ax.service.ax_client: Completed trial 13 with data: {'mae': (0.381291, None)}.\n"
     ]
    },
    {
     "name": "stdout",
     "output_type": "stream",
     "text": [
      "1.0\n",
      "user parameters are : {'pos_scaler': 0.07417395, 'weight_decay': 0.0, 'train_frac': 0.9265678}\n",
      "{'N': 3, 'alpha': 0.5, 'd_model': 512, 'dim_feedforward': 2048, 'dropout': 0.1, 'emb_scaler': 1.0, 'eps': 1e-06, 'epochs_step': 10, 'fudge': 0.02, 'heads': 4, 'k': 6, 'lr': 0.001, 'pe_resolution': 5000, 'ple_resolution': 5000, 'pos_scaler': 0.07417395, 'weight_decay': 0.0, 'batch_size': 32, 'out_hidden4': 128, 'betas1': 0.9, 'betas2': 0.999, 'train_frac': 0.9265678, 'bias': False, 'criterion': 'RobustL1', 'elem_prop': 'mat2vec'}\n"
     ]
    },
    {
     "name": "stderr",
     "output_type": "stream",
     "text": [
      "[INFO 03-21 22:58:43] ax.service.ax_client: Generated new trial 14 with parameters {'x1': 0.0, 'x2': 0.0}.\n"
     ]
    },
    {
     "name": "stdout",
     "output_type": "stream",
     "text": [
      "1.0\n",
      "user parameters are : {'pos_scaler': 0.0, 'weight_decay': 0.0, 'train_frac': 1.0}\n",
      "{'N': 3, 'alpha': 0.5, 'd_model': 512, 'dim_feedforward': 2048, 'dropout': 0.1, 'emb_scaler': 1.0, 'eps': 1e-06, 'epochs_step': 10, 'fudge': 0.02, 'heads': 4, 'k': 6, 'lr': 0.001, 'pe_resolution': 5000, 'ple_resolution': 5000, 'pos_scaler': 0.0, 'weight_decay': 0.0, 'batch_size': 32, 'out_hidden4': 128, 'betas1': 0.9, 'betas2': 0.999, 'train_frac': 1.0, 'bias': False, 'criterion': 'RobustL1', 'elem_prop': 'mat2vec'}\n"
     ]
    },
    {
     "name": "stderr",
     "output_type": "stream",
     "text": [
      "[INFO 03-21 22:58:44] ax.service.ax_client: Completed trial 14 with data: {'mae': (0.381499, None)}.\n",
      "[WARNING 03-21 22:58:45] ax.modelbridge.cross_validation: Metric mae was unable to be reliably fit.\n",
      "[WARNING 03-21 22:58:45] ax.service.utils.best_point: Model fit is poor; falling back on raw data for best point.\n",
      "[WARNING 03-21 22:58:45] ax.service.utils.best_point: Model fit is poor and data on objective metric mae is noisy; interpret best points results carefully.\n"
     ]
    }
   ],
   "source": [
    "from ax.service.ax_client import AxClient\n",
    "\n",
    "dummy = True\n",
    "\n",
    "def evaluate(parameters):\n",
    "    parameters[\"x3\"] = 1 - (parameters[\"x1\"] + parameters[\"x2\"])\n",
    "    parameters[\"x3\"] = max(0.0, parameters[\"x3\"])\n",
    "    return pc.evaluate(parameters, dummy=dummy)\n",
    "\n",
    "ax_client = AxClient()\n",
    "ax_client.create_experiment(\n",
    "    name=\"pseudo_crab\",\n",
    "    parameters=[\n",
    "        {\n",
    "            \"name\": \"x1\",\n",
    "            \"type\": \"range\",\n",
    "            \"bounds\": [0.0, 1.0],\n",
    "            \"value_type\": \"float\",\n",
    "        },\n",
    "        {\n",
    "            \"name\": \"x2\",\n",
    "            \"type\": \"range\",\n",
    "            \"bounds\": [0.0, 1.0],\n",
    "        },\n",
    "    ],\n",
    "    objective_name=\"mae\",\n",
    "    parameter_constraints=[\"x1 + x2  <= 1.0\"],\n",
    "    minimize=True,\n",
    ")\n",
    "\n",
    "for _ in range(15):\n",
    "    parameters, trial_index = ax_client.get_next_trial()\n",
    "    ax_client.complete_trial(\n",
    "        trial_index=trial_index,\n",
    "        raw_data=evaluate(parameters),\n",
    "    )\n",
    "\n",
    "best_parameters, metrics = ax_client.get_best_parameters()"
   ]
  },
  {
   "cell_type": "code",
   "execution_count": null,
   "metadata": {},
   "outputs": [
    {
     "data": {
      "text/plain": [
       "({'x1': 0.1748458594083786, 'x2': 0.4926553964614868},\n",
       " ({'mae': 0.8210761838837966}, {'mae': {'mae': nan}}))"
      ]
     },
     "execution_count": 6,
     "metadata": {},
     "output_type": "execute_result"
    }
   ],
   "source": [
    "best_parameters, metrics"
   ]
  },
  {
   "cell_type": "code",
   "execution_count": null,
   "metadata": {},
   "outputs": [],
   "source": []
  }
 ],
 "metadata": {
  "kernelspec": {
   "display_name": "matsci-opt-benchmarks",
   "language": "python",
   "name": "python3"
  },
  "language_info": {
   "codemirror_mode": {
    "name": "ipython",
    "version": 3
   },
   "file_extension": ".py",
   "mimetype": "text/x-python",
   "name": "python",
   "nbconvert_exporter": "python",
   "pygments_lexer": "ipython3",
   "version": "3.10.9"
  },
  "orig_nbformat": 4
 },
 "nbformat": 4,
 "nbformat_minor": 2
}
