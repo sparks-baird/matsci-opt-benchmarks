{
 "cells": [
  {
   "cell_type": "code",
   "execution_count": 1,
   "metadata": {},
   "outputs": [],
   "source": [
    "from joblib import load\n",
    "from os import path\n",
    "import random\n",
    "import pandas as pd"
   ]
  },
  {
   "cell_type": "code",
   "execution_count": 2,
   "metadata": {},
   "outputs": [],
   "source": [
    "dummy = True"
   ]
  },
  {
   "cell_type": "code",
   "execution_count": 3,
   "metadata": {},
   "outputs": [],
   "source": [
    "task_name = \"crabnet_hyperparameter\"\n",
    "model_dir = path.join(\"..\", \"..\", \"models\", task_name)\n",
    "\n",
    "if dummy:\n",
    "    model_dir = path.join(model_dir, \"dummy\")\n",
    "   "
   ]
  },
  {
   "cell_type": "code",
   "execution_count": 4,
   "metadata": {},
   "outputs": [],
   "source": [
    "class CrabNetSurrogateModel(object):\n",
    "    def __init__(self):\n",
    "        self.models = load(path.join(model_dir, \"surrogate_models.pkl\"))\n",
    "\n",
    "    def prepare_params_for_eval(self, raw_params):\n",
    "        raw_params[\"bias\"] = int(raw_params[\"bias\"])\n",
    "        raw_params[\"use_RobustL1\"] = raw_params[\"criterion\"] == \"RobustL1\"\n",
    "        raw_params.pop(\"criterion\")\n",
    "\n",
    "        raw_params.pop(\"losscurve\")\n",
    "        raw_params.pop(\"learningcurve\")\n",
    "\n",
    "        # raw_params[\"train_frac\"] = random.uniform(0.01, 1)\n",
    "\n",
    "        elem_prop = raw_params[\"elem_prop\"]\n",
    "        raw_params[\"elem_prop_magpie\"] = 0\n",
    "        raw_params[\"elem_prop_mat2vec\"] = 0\n",
    "        raw_params[\"elem_prop_onehot\"] = 0\n",
    "        raw_params[f\"elem_prop_{elem_prop}\"] = 1\n",
    "        raw_params.pop(\"elem_prop\")\n",
    "\n",
    "        return raw_params\n",
    "\n",
    "    def surrogate_evaluate(self, params):\n",
    "\n",
    "        parameters = self.prepare_params_for_eval(params)\n",
    "        parameters = pd.DataFrame([parameters])\n",
    "\n",
    "        percentile = random.uniform(0, 1)  # generate random percentile\n",
    "\n",
    "        mae = self.models[\"mae\"].predict(parameters.assign(mae_rank=[percentile]))\n",
    "        rmse = self.models[\"rmse\"].predict(parameters.assign(rmse_rank=[percentile]))\n",
    "        runtime = self.models[\"runtime\"].predict(\n",
    "            parameters.assign(runtime_rank=[percentile])\n",
    "        )\n",
    "        model_size = self.models[\"model_size\"].predict(parameters)\n",
    "\n",
    "        return mae, rmse, runtime, model_size"
   ]
  },
  {
   "cell_type": "code",
   "execution_count": 5,
   "metadata": {},
   "outputs": [],
   "source": [
    "parameterization = {\n",
    "    \"N\": 3,\n",
    "    \"alpha\": 0.5,\n",
    "    \"d_model\": 512,\n",
    "    \"dim_feedforward\": 2048,\n",
    "    \"dropout\": 0.1,\n",
    "    \"emb_scaler\": 1.0,\n",
    "    \"epochs_step\": 10,\n",
    "    \"eps\": 0.000001,\n",
    "    \"fudge\": 0.02,\n",
    "    \"heads\": 4,\n",
    "    \"k\": 6,\n",
    "    \"lr\": 0.001,\n",
    "    \"pe_resolution\": 5000,\n",
    "    \"ple_resolution\": 5000,\n",
    "    \"pos_scaler\": 1.0,\n",
    "    \"weight_decay\": 0,\n",
    "    \"batch_size\": 32,\n",
    "    \"out_hidden4\": 128,\n",
    "    \"betas1\": 0.9,\n",
    "    \"betas2\": 0.999,\n",
    "    \"losscurve\": False,\n",
    "    \"learningcurve\": False,\n",
    "    \"bias\": False,\n",
    "    \"criterion\": \"RobustL1\",\n",
    "    \"elem_prop\": \"mat2vec\",\n",
    "    \"train_frac\": 0.5,\n",
    "}"
   ]
  },
  {
   "cell_type": "code",
   "execution_count": 6,
   "metadata": {},
   "outputs": [],
   "source": [
    "c = CrabNetSurrogateModel()"
   ]
  },
  {
   "cell_type": "code",
   "execution_count": 7,
   "metadata": {},
   "outputs": [
    {
     "name": "stdout",
     "output_type": "stream",
     "text": [
      "MAE: [1.01922182], RMSE: [1.47120058], runtime: [265.26229555], model_size: [14660828.53]\n"
     ]
    },
    {
     "name": "stderr",
     "output_type": "stream",
     "text": [
      "c:\\Users\\sterg\\Miniconda3\\envs\\matsci-opt-benchmarks\\lib\\site-packages\\sklearn\\base.py:488: FutureWarning: The feature names should match those that were passed during fit. Starting version 1.2, an error will be raised.\n",
      "Feature names must be in the same order as they were in fit.\n",
      "\n",
      "  warnings.warn(message, FutureWarning)\n",
      "c:\\Users\\sterg\\Miniconda3\\envs\\matsci-opt-benchmarks\\lib\\site-packages\\sklearn\\base.py:488: FutureWarning: The feature names should match those that were passed during fit. Starting version 1.2, an error will be raised.\n",
      "Feature names must be in the same order as they were in fit.\n",
      "\n",
      "  warnings.warn(message, FutureWarning)\n",
      "c:\\Users\\sterg\\Miniconda3\\envs\\matsci-opt-benchmarks\\lib\\site-packages\\sklearn\\base.py:488: FutureWarning: The feature names should match those that were passed during fit. Starting version 1.2, an error will be raised.\n",
      "Feature names must be in the same order as they were in fit.\n",
      "\n",
      "  warnings.warn(message, FutureWarning)\n",
      "c:\\Users\\sterg\\Miniconda3\\envs\\matsci-opt-benchmarks\\lib\\site-packages\\sklearn\\base.py:488: FutureWarning: The feature names should match those that were passed during fit. Starting version 1.2, an error will be raised.\n",
      "Feature names must be in the same order as they were in fit.\n",
      "\n",
      "  warnings.warn(message, FutureWarning)\n"
     ]
    }
   ],
   "source": [
    "mae, rmse, runtime, model_size = c.surrogate_evaluate(parameterization)\n",
    "print(f\"MAE: {mae}, RMSE: {rmse}, runtime: {runtime}, model_size: {model_size}\")"
   ]
  },
  {
   "cell_type": "code",
   "execution_count": 147,
   "metadata": {},
   "outputs": [],
   "source": [
    "\n",
    "\n",
    "# common_features = [\n",
    "#     \"N\",\n",
    "#     \"alpha\",\n",
    "#     \"d_model\",\n",
    "#     \"dim_feedforward\",\n",
    "#     \"dropout\",\n",
    "#     \"emb_scaler\",\n",
    "#     \"eps\",\n",
    "#     \"epochs_step\",\n",
    "#     \"fudge\",\n",
    "#     \"heads\",\n",
    "#     \"k\",\n",
    "#     \"lr\",\n",
    "#     \"pe_resolution\",\n",
    "#     \"ple_resolution\",\n",
    "#     \"pos_scaler\",\n",
    "#     \"weight_decay\",\n",
    "#     \"batch_size\",\n",
    "#     \"out_hidden4\",\n",
    "#     \"betas1\",\n",
    "#     \"betas2\",\n",
    "#     \"train_frac\",\n",
    "#     \"bias\", # - 0,1, use int(bool)\n",
    "#     \"use_RobustL1\", #\n",
    "#     # \"criterion_RobustL2\",\n",
    "#     \"elem_prop_magpie\", #\n",
    "#     \"elem_prop_mat2vec\", #\n",
    "#     \"elem_prop_onehot\", #\n",
    "#     # \"hardware_2080ti\"\n",
    "# ]"
   ]
  }
 ],
 "metadata": {
  "kernelspec": {
   "display_name": "matsci-opt-benchmarks",
   "language": "python",
   "name": "python3"
  },
  "language_info": {
   "codemirror_mode": {
    "name": "ipython",
    "version": 3
   },
   "file_extension": ".py",
   "mimetype": "text/x-python",
   "name": "python",
   "nbconvert_exporter": "python",
   "pygments_lexer": "ipython3",
   "version": "3.10.9"
  },
  "orig_nbformat": 4,
  "vscode": {
   "interpreter": {
    "hash": "5814ca482226f814bec6d6a290f5fe630a2a0cb71af6cb85828c242f7bf3b839"
   }
  }
 },
 "nbformat": 4,
 "nbformat_minor": 2
}
