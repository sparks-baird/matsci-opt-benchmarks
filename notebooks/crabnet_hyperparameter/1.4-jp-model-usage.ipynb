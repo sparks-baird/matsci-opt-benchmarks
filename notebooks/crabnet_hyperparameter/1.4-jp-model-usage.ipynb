{
 "cells": [
  {
   "cell_type": "code",
   "execution_count": 3,
   "metadata": {},
   "outputs": [],
   "source": [
    "from joblib import load\n",
    "from os import path"
   ]
  },
  {
   "cell_type": "code",
   "execution_count": 8,
   "metadata": {},
   "outputs": [],
   "source": [
    "dummy = True"
   ]
  },
  {
   "cell_type": "code",
   "execution_count": 9,
   "metadata": {},
   "outputs": [],
   "source": [
    "task_name = \"crabnet_hyperparameter\"\n",
    "model_dir = path.join(\"..\", \"..\", \"models\", task_name)\n",
    "\n",
    "if dummy:\n",
    "    model_dir = path.join(model_dir, \"dummy\")\n",
    "   "
   ]
  },
  {
   "cell_type": "code",
   "execution_count": 16,
   "metadata": {},
   "outputs": [],
   "source": [
    "class CrabNetSurrogateModel(object):\n",
    "    def __init__(self):\n",
    "        self.models = load(path.join(model_dir, \"surrogate_models.pkl\"))\n",
    "\n",
    "    def prepare_params_for_eval():\n",
    "\n",
    "\n",
    "    \n",
    "    def surrogate_evaluate(self, parameters):\n",
    "        \n",
    "        mae = self.models[\"mae\"].predict(parameters)\n",
    "        rmse = self.models[\"rmse\"].predict(parameters)\n",
    "        runtime = self.models[\"rmse\"].predict(parameters)\n",
    "        model_size = self.models[\"model_size\"].predict(parameters)\n",
    "\n",
    "        #somehow incoroprate the rank/percentile\n",
    "        \n",
    "        return mae, rmse, runtime, model_size\n",
    "\n"
   ]
  },
  {
   "cell_type": "code",
   "execution_count": 12,
   "metadata": {},
   "outputs": [],
   "source": [
    "c = CrabNetSurrogateModel()"
   ]
  },
  {
   "cell_type": "code",
   "execution_count": 17,
   "metadata": {},
   "outputs": [],
   "source": [
    "def undummify(df, prefix_sep=\"_\"):\n",
    "    cols2collapse = {\n",
    "        item.split(prefix_sep)[0]: (prefix_sep in item) for item in df.columns\n",
    "    }\n",
    "    series_list = []\n",
    "    for col, needs_to_collapse in cols2collapse.items():\n",
    "        if needs_to_collapse:\n",
    "            undummified = (\n",
    "                df.filter(like=col)\n",
    "                .idxmax(axis=1)\n",
    "                .apply(lambda x: x.split(prefix_sep, maxsplit=1)[1])\n",
    "                .rename(col)\n",
    "            )\n",
    "            series_list.append(undummified)\n",
    "        else:\n",
    "            series_list.append(df[col])\n",
    "    undummified_df = pd.concat(series_list, axis=1)\n",
    "    return undummified_df\n"
   ]
  },
  {
   "cell_type": "code",
   "execution_count": null,
   "metadata": {},
   "outputs": [],
   "source": []
  }
 ],
 "metadata": {
  "kernelspec": {
   "display_name": "matsci-opt-benchmarks",
   "language": "python",
   "name": "python3"
  },
  "language_info": {
   "codemirror_mode": {
    "name": "ipython",
    "version": 3
   },
   "file_extension": ".py",
   "mimetype": "text/x-python",
   "name": "python",
   "nbconvert_exporter": "python",
   "pygments_lexer": "ipython3",
   "version": "3.10.9"
  },
  "orig_nbformat": 4,
  "vscode": {
   "interpreter": {
    "hash": "5814ca482226f814bec6d6a290f5fe630a2a0cb71af6cb85828c242f7bf3b839"
   }
  }
 },
 "nbformat": 4,
 "nbformat_minor": 2
}
