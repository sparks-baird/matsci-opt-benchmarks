{
 "cells": [
  {
   "cell_type": "code",
   "execution_count": 1,
   "metadata": {},
   "outputs": [],
   "source": [
    "from my_secrets import MONGODB_USERNAME, MONGODB_PASSWORD\n",
    "from pymongo import MongoClient\n",
    "\n",
    "# Requires the PyMongo package.\n",
    "# https://api.mongodb.com/python/current\n",
    "\n",
    "cluster_uri = \"matsci-opt-benchmarks.ehu7qrh\"\n",
    "client = MongoClient(f\"mongodb+srv://{MONGODB_USERNAME}:{MONGODB_PASSWORD}@{cluster_uri}.mongodb.net/?retryWrites=true&w=majority\")\n",
    "\n",
    "database_name = \"crabnet-hyperparameter\"\n",
    "collection_name = \"sobol\""
   ]
  },
  {
   "cell_type": "code",
   "execution_count": 2,
   "metadata": {},
   "outputs": [
    {
     "data": {
      "application/vnd.jupyter.widget-view+json": {
       "model_id": "a2fe2b7beb574c9a9365a412fb97d35a",
       "version_major": 2,
       "version_minor": 0
      },
      "text/plain": [
       "  0%|          | 0/173219 [00:00<?, ?it/s]"
      ]
     },
     "metadata": {},
     "output_type": "display_data"
    }
   ],
   "source": [
    "from tqdm.notebook import tqdm\n",
    "db = client[database_name]\n",
    "collection = db[collection_name]\n",
    "# results = collection.aggregate([{\"$match\": {\"fba\": {\"$exists\": True}}}])\n",
    "filter = {\"hardware\": {\"$exists\": True}, \"scores\": {\"$exists\": True}}\n",
    "num_docs = collection.count_documents(filter)\n",
    "cursor = collection.find(filter)\n",
    "results = []\n",
    "for result in tqdm(cursor, total=num_docs):\n",
    "    results.append(result)"
   ]
  },
  {
   "cell_type": "code",
   "execution_count": 3,
   "metadata": {},
   "outputs": [
    {
     "data": {
      "text/plain": [
       "Index(['N', 'alpha', 'd_model', 'dim_feedforward', 'dropout', 'emb_scaler',\n",
       "       'eps', 'epochs_step', 'fudge', 'heads', 'k', 'lr', 'pe_resolution',\n",
       "       'ple_resolution', 'pos_scaler', 'weight_decay', 'batch_size',\n",
       "       'out_hidden4', 'betas1', 'betas2', 'bias', 'train_frac', 'criterion',\n",
       "       'elem_prop', 'hardware', 'sample_seed', 'scores', 'model_size',\n",
       "       'runtime', 'session_id', 'timestamp', 'date', 'sobol_seed',\n",
       "       'num_sobol_samples', 'num_repeats'],\n",
       "      dtype='object')"
      ]
     },
     "execution_count": 3,
     "metadata": {},
     "output_type": "execute_result"
    }
   ],
   "source": [
    "import pandas as pd\n",
    "import json\n",
    "df = pd.DataFrame(results).set_index(\"_id\")\n",
    "df[\"scores\"] = df[\"scores\"].apply(json.dumps)\n",
    "df.to_csv(f\"../../data/external/{database_name}-{collection_name}.csv\")\n",
    "df.columns"
   ]
  },
  {
   "cell_type": "code",
   "execution_count": 4,
   "metadata": {},
   "outputs": [
    {
     "data": {
      "text/plain": [
       "3.2171862053427316"
      ]
     },
     "execution_count": 4,
     "metadata": {},
     "output_type": "execute_result"
    }
   ],
   "source": [
    "df[\"runtime\"].mean() / 60"
   ]
  },
  {
   "cell_type": "code",
   "execution_count": null,
   "metadata": {},
   "outputs": [],
   "source": []
  }
 ],
 "metadata": {
  "kernelspec": {
   "display_name": "matsci-opt-benchmarks",
   "language": "python",
   "name": "python3"
  },
  "language_info": {
   "codemirror_mode": {
    "name": "ipython",
    "version": 3
   },
   "file_extension": ".py",
   "mimetype": "text/x-python",
   "name": "python",
   "nbconvert_exporter": "python",
   "pygments_lexer": "ipython3",
   "version": "3.10.9"
  },
  "orig_nbformat": 4,
  "vscode": {
   "interpreter": {
    "hash": "01883adffc5ff99e80740fdb2688c7d7f1b5220f2274814f600fbe3b3887f376"
   }
  }
 },
 "nbformat": 4,
 "nbformat_minor": 2
}
